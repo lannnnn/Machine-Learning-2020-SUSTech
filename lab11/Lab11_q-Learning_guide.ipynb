{
 "cells": [
  {
   "cell_type": "markdown",
   "metadata": {},
   "source": [
    "# Q-Learning"
   ]
  },
  {
   "cell_type": "markdown",
   "metadata": {},
   "source": [
    "In this homework, you should complete the Q-learning algorithm for the environment gym taxi"
   ]
  },
  {
   "cell_type": "code",
   "execution_count": 11,
   "metadata": {},
   "outputs": [],
   "source": [
    "import gym\n",
    "import numpy as np\n",
    "import random\n",
    "\n",
    "# the None is the position you should modeify to complete the algorithm"
   ]
  },
  {
   "cell_type": "markdown",
   "metadata": {},
   "source": [
    "## Step 1 Creat the environment\n",
    "Using the API imported from gym"
   ]
  },
  {
   "cell_type": "code",
   "execution_count": 12,
   "metadata": {
    "tags": []
   },
   "outputs": [
    {
     "output_type": "stream",
     "name": "stdout",
     "text": "+---------+\n|R: | : :G|\n| : | : : |\n| : : : : |\n|\u001b[43m \u001b[0m| : | : |\n|\u001b[35mY\u001b[0m| : |\u001b[34;1mB\u001b[0m: |\n+---------+\n\n"
    }
   ],
   "source": [
    "env = gym.make('Taxi-v3')\n",
    "env.render()"
   ]
  },
  {
   "cell_type": "markdown",
   "metadata": {},
   "source": [
    "## Step 2  Create the Q-table and initialize it"
   ]
  },
  {
   "cell_type": "markdown",
   "metadata": {},
   "source": [
    "You can use the gym api to fetch the dimension of action space and state space"
   ]
  },
  {
   "cell_type": "code",
   "execution_count": 16,
   "metadata": {},
   "outputs": [],
   "source": [
    "action_space = env.action_space.n\n",
    "state_space = env.observation_space.n\n",
    "\n",
    "#Please complete this initialization in this line\n",
    "Q_table = np.zeros((state_space, action_space))"
   ]
  },
  {
   "cell_type": "markdown",
   "metadata": {},
   "source": [
    "## Step 3 Configure the hyperparameters"
   ]
  },
  {
   "cell_type": "code",
   "execution_count": 23,
   "metadata": {},
   "outputs": [],
   "source": [
    "total_episodes = 50000\n",
    "total_test_episodes = 100\n",
    "learning_rate= 0.7\n",
    "\n",
    "# discount rate\n",
    "gamma= 0.618\n",
    "\n",
    "# Create the hyperparameters\n",
    "sample_rewards = []"
   ]
  },
  {
   "cell_type": "markdown",
   "metadata": {},
   "source": [
    "## Step 4 Q Learning algorithm"
   ]
  },
  {
   "cell_type": "markdown",
   "metadata": {},
   "source": [
    "Note: The formula of Q table update(Bellman equation)\n",
    "    ![Bellman equation](https://raw.githubusercontent.com/hanruihua/NoteBook/master/AI-Note/equation.png)"
   ]
  },
  {
   "cell_type": "code",
   "execution_count": 25,
   "metadata": {
    "tags": []
   },
   "outputs": [
    {
     "output_type": "stream",
     "name": "stdout",
     "text": "average reward:0: -200.0\naverage reward:1000: -11.063\naverage reward:2000: 7.889\naverage reward:3000: 7.712\naverage reward:4000: 7.754\naverage reward:5000: 8.015\naverage reward:6000: 7.866\naverage reward:7000: 7.934\naverage reward:8000: 7.935\naverage reward:9000: 7.977\naverage reward:10000: 7.858\naverage reward:11000: 7.836\naverage reward:12000: 7.852\naverage reward:13000: 8.006\naverage reward:14000: 8.005\naverage reward:15000: 7.889\naverage reward:16000: 7.806\naverage reward:17000: 7.955\naverage reward:18000: 7.966\naverage reward:19000: 7.879\naverage reward:20000: 7.789\naverage reward:21000: 7.891\naverage reward:22000: 7.848\naverage reward:23000: 7.962\naverage reward:24000: 7.857\naverage reward:25000: 7.782\naverage reward:26000: 7.931\naverage reward:27000: 7.792\naverage reward:28000: 7.898\naverage reward:29000: 7.884\naverage reward:30000: 7.79\naverage reward:31000: 7.758\naverage reward:32000: 8.001\naverage reward:33000: 7.836\naverage reward:34000: 7.826\naverage reward:35000: 7.972\naverage reward:36000: 7.905\naverage reward:37000: 7.755\naverage reward:38000: 7.961\naverage reward:39000: 7.958\naverage reward:40000: 7.848\naverage reward:41000: 7.906\naverage reward:42000: 8.069\naverage reward:43000: 7.918\naverage reward:44000: 8.035\naverage reward:45000: 7.78\naverage reward:46000: 7.924\naverage reward:47000: 7.84\naverage reward:48000: 7.858\naverage reward:49000: 7.898\n"
    }
   ],
   "source": [
    "for episode in range(total_episodes):\n",
    "    state= env.reset()\n",
    "    step=0\n",
    "    done=False\n",
    "    sample_reward = 0 \n",
    "    while True:\n",
    "        # Please complete this action selection in this line via the maximum value\n",
    "        action = np.argmax(Q_table[state, :])\n",
    "        \n",
    "        # fetech the new state and reward by gym API\n",
    "        new_state, reward, done, info = env.step(action)\n",
    "        # Calculate the reward of this episode\n",
    "        sample_reward += reward\n",
    "        \n",
    "        # Update the Q table\n",
    "        Q_table[state, action] += learning_rate*(reward+gamma*np.max(Q_table[new_state,:])-Q_table[state, action])\n",
    "        \n",
    "        # Update the state\n",
    "        state = new_state\n",
    "        \n",
    "        #store the episode reward\n",
    "        if done == True:\n",
    "            sample_rewards.append(sample_reward)\n",
    "            break\n",
    "            \n",
    "    # print the average reward over 1000 episodes\n",
    "    if episode%1000 == 0:\n",
    "        mean_reward = np.mean(sample_rewards)\n",
    "        sample_rewards = []\n",
    "        print(\"average reward:\" +str(episode)+ \": \"+str(mean_reward))"
   ]
  },
  {
   "cell_type": "markdown",
   "metadata": {},
   "source": [
    "## Step 5 Test your Q table"
   ]
  },
  {
   "cell_type": "code",
   "execution_count": 33,
   "metadata": {
    "tags": []
   },
   "outputs": [
    {
     "output_type": "stream",
     "name": "stdout",
     "text": "test:\naverage reward over 100 episode:8.16\n"
    }
   ],
   "source": [
    "env.reset()\n",
    "rewards=[]\n",
    "\n",
    "max_steps = 1000\n",
    "\n",
    "for episode in range(total_test_episodes):\n",
    "    state=env.reset()\n",
    "    step = 0\n",
    "    done =False\n",
    "    total_rewards = 0\n",
    "\n",
    "    for step in range(max_steps):\n",
    "        #  action selection\n",
    "        action = np.argmax(Q_table[state,:])\n",
    "        # fetech the new state and reward by gym API\n",
    "        new_state, reward, done, info = env.step(action)\n",
    "        \n",
    "        total_rewards += reward\n",
    "        if done:\n",
    "            rewards.append(total_rewards)\n",
    "            break\n",
    "        state = new_state\n",
    "     \n",
    "env.close()\n",
    "print(\"test:\")\n",
    "print(\"average reward over 100 episode:\"+ str(np.mean(rewards)))"
   ]
  },
  {
   "cell_type": "code",
   "execution_count": null,
   "metadata": {},
   "outputs": [],
   "source": []
  }
 ],
 "metadata": {
  "file_extension": ".py",
  "kernelspec": {
   "display_name": "Python 3",
   "language": "python",
   "name": "python3"
  },
  "language_info": {
   "codemirror_mode": {
    "name": "ipython",
    "version": 3
   },
   "file_extension": ".py",
   "mimetype": "text/x-python",
   "name": "python",
   "nbconvert_exporter": "python",
   "pygments_lexer": "ipython3",
   "version": "3.7.3"
  },
  "mimetype": "text/x-python",
  "name": "python",
  "npconvert_exporter": "python",
  "pygments_lexer": "ipython3",
  "version": 3
 },
 "nbformat": 4,
 "nbformat_minor": 2
}